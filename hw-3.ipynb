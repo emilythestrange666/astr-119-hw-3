{
 "cells": [
  {
   "cell_type": "code",
   "execution_count": null,
   "metadata": {},
   "outputs": [],
   "source": [
    "import numpy as np\n",
    "import matplotlib.pyplot as plt"
   ]
  },
  {
   "cell_type": "code",
   "execution_count": null,
   "metadata": {},
   "outputs": [],
   "source": [
    "n=1000\n",
    "x = np.arange(0,2*np.pi,(2*np.pi/n))\n",
    "#print(x)\n",
    "\n",
    "#x is 0-2pi\n",
    "#y range = -1 to 10\n",
    "\n",
    "#y1=5.5cos(2*x)+5.5\n",
    "#y2=0.02*exp(x)\n",
    "#y3=0.25*x^2+0.1sin(10*x)\n",
    "y1=5.5*np.cos(2*x)+5.5\n",
    "y2=0.2*np.exp(x)\n",
    "y3=0.25*(x**2)+0.1*np.sin(10*x)\n",
    "plt.plot(x,y1,label='y1=5.5cos(2*x)+5.5')\n",
    "plt.plot(x,y2,label='y2=0.02*exp(x)')\n",
    "plt.plot(x,y3,label='y3=0.25*x^2+0.1sin(10*x)')\n",
    "plt.xlim([0,2*pi])\n",
    "plt.ylim([-1,10])\n",
    "plt.xlabel('Time in Astr 119')\n",
    "plt.ylabel('Measure of Awesomeness')\n",
    "plt.legend()\n",
    "plt.show()"
   ]
  },
  {
   "cell_type": "code",
   "execution_count": null,
   "metadata": {},
   "outputs": [],
   "source": []
  }
 ],
 "metadata": {
  "kernelspec": {
   "display_name": "Python 3",
   "language": "python",
   "name": "python3"
  },
  "language_info": {
   "codemirror_mode": {
    "name": "ipython",
    "version": 3
   },
   "file_extension": ".py",
   "mimetype": "text/x-python",
   "name": "python",
   "nbconvert_exporter": "python",
   "pygments_lexer": "ipython3",
   "version": "3.7.3"
  }
 },
 "nbformat": 4,
 "nbformat_minor": 4
}
